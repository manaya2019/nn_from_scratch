{
 "cells": [
  {
   "cell_type": "code",
   "execution_count": 1,
   "metadata": {},
   "outputs": [],
   "source": [
    "import numpy as np\n",
    "import matplotlib.pyplot as plt\n",
    "\n",
    "%matplotlib inline"
   ]
  },
  {
   "cell_type": "markdown",
   "metadata": {},
   "source": [
    "# Est-ce qu'un ANN peut apprendre à dire si un eleve a son bac ou pas"
   ]
  },
  {
   "cell_type": "markdown",
   "metadata": {},
   "source": [
    "## Créeation d'un dataset d'élèves, de notes et leur résultat au bac"
   ]
  },
  {
   "cell_type": "code",
   "execution_count": 2,
   "metadata": {},
   "outputs": [
    {
     "data": {
      "text/plain": [
       "(4, 200)"
      ]
     },
     "execution_count": 2,
     "metadata": {},
     "output_type": "execute_result"
    }
   ],
   "source": [
    "n_matieres = 4\n",
    "n_eleves = 200\n",
    "note_maxi = 20\n",
    "X = np.random.randint(note_maxi + 1,\n",
    "                      size = (n_matieres,\n",
    "                            n_eleves))\n",
    "X.shape"
   ]
  },
  {
   "cell_type": "code",
   "execution_count": 8,
   "metadata": {},
   "outputs": [
    {
     "name": "stdout",
     "output_type": "stream",
     "text": [
      "(4,)\n"
     ]
    },
    {
     "data": {
      "text/plain": [
       "(200, 1)"
      ]
     },
     "execution_count": 8,
     "metadata": {},
     "output_type": "execute_result"
    }
   ],
   "source": [
    "coeffs = np.array([2, 4, 2, 6])\n",
    "print(coeffs.shape)\n",
    "coeffs = coeffs.reshape(4, 1)\n",
    "\n",
    "scores_bac = np.dot(X.T, coeffs)\n",
    "\n",
    "moyennes = scores_bac/np.sum(coeffs)\n",
    "\n",
    "Y = (moyennes >=10)*1\n",
    "\n",
    "Y.shape\n"
   ]
  },
  {
   "cell_type": "markdown",
   "metadata": {},
   "source": [
    "## Architecture du RNN"
   ]
  },
  {
   "cell_type": "code",
   "execution_count": 9,
   "metadata": {},
   "outputs": [],
   "source": [
    "def init_parametres(dimensions):\n",
    "    \n",
    "    params = {}\n",
    "    \n",
    "    n_layers = len(dimensions) - 1\n",
    "    \n",
    "    for i in range(1, n_layers + 1):\n",
    "        params[\"W\" + str(i)] = np.random.randn(dimensions[i-1], dimensions[i])*0.01\n",
    "        params[\"b\" + str(i)] = np.zeros((1, dimensions[i])) \n",
    "    \n",
    "    return params\n",
    "    \n",
    "   "
   ]
  },
  {
   "cell_type": "code",
   "execution_count": 11,
   "metadata": {},
   "outputs": [
    {
     "data": {
      "text/plain": [
       "{'W1': array([[-0.01118804, -0.00220578, -0.00641935],\n",
       "        [ 0.00710736,  0.00517649, -0.01283111],\n",
       "        [-0.00648279,  0.0158825 , -0.00980741],\n",
       "        [ 0.01201791, -0.02004497, -0.01316928]]),\n",
       " 'b1': array([[0., 0., 0.]]),\n",
       " 'W2': array([[ 0.00145942,  0.00323782,  0.00029736],\n",
       "        [-0.01183215,  0.00458995, -0.00435318],\n",
       "        [-0.00252036, -0.00013252, -0.0073656 ]]),\n",
       " 'b2': array([[0., 0., 0.]]),\n",
       " 'W3': array([[-0.001768  ],\n",
       "        [ 0.00338151],\n",
       "        [-0.00721155]]),\n",
       " 'b3': array([[0.]])}"
      ]
     },
     "execution_count": 11,
     "metadata": {},
     "output_type": "execute_result"
    }
   ],
   "source": [
    "dims = [4, 3, 3, 1]\n",
    "\n",
    "init_parametres(dims)"
   ]
  }
 ],
 "metadata": {
  "kernelspec": {
   "display_name": "Python 3",
   "language": "python",
   "name": "python3"
  },
  "language_info": {
   "codemirror_mode": {
    "name": "ipython",
    "version": 3
   },
   "file_extension": ".py",
   "mimetype": "text/x-python",
   "name": "python",
   "nbconvert_exporter": "python",
   "pygments_lexer": "ipython3",
   "version": "3.7.1"
  }
 },
 "nbformat": 4,
 "nbformat_minor": 2
}
