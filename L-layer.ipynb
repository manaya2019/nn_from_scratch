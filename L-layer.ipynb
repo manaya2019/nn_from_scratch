{
 "cells": [
  {
   "cell_type": "code",
   "execution_count": 1,
   "metadata": {},
   "outputs": [],
   "source": [
    "import numpy as np\n",
    "import matplotlib.pyplot as plt\n",
    "\n",
    "%matplotlib inline"
   ]
  },
  {
   "cell_type": "markdown",
   "metadata": {},
   "source": [
    "# Est-ce qu'un ANN peut apprendre à dire si un eleve a son bac ou pas"
   ]
  },
  {
   "cell_type": "markdown",
   "metadata": {},
   "source": [
    "\n",
    "## Créeation d'un dataset d'élèves, de notes et leur résultat au bac"
   ]
  },
  {
   "cell_type": "code",
   "execution_count": 2,
   "metadata": {},
   "outputs": [
    {
     "data": {
      "text/plain": [
       "(4, 200)"
      ]
     },
     "execution_count": 2,
     "metadata": {},
     "output_type": "execute_result"
    }
   ],
   "source": [
    "n_matieres = 4\n",
    "n_eleves = 200\n",
    "note_maxi = 20\n",
    "X = np.random.randint(note_maxi + 1,\n",
    "                      size = (n_matieres,\n",
    "                            n_eleves))\n",
    "X.shape"
   ]
  },
  {
   "cell_type": "code",
   "execution_count": 3,
   "metadata": {},
   "outputs": [
    {
     "name": "stdout",
     "output_type": "stream",
     "text": [
      "(4,)\n"
     ]
    },
    {
     "data": {
      "text/plain": [
       "(200, 1)"
      ]
     },
     "execution_count": 3,
     "metadata": {},
     "output_type": "execute_result"
    }
   ],
   "source": [
    "coeffs = np.array([2, 4, 2, 6])\n",
    "print(coeffs.shape)\n",
    "coeffs = coeffs.reshape(4, 1)\n",
    "\n",
    "scores_bac = np.dot(X.T, coeffs)\n",
    "\n",
    "moyennes = scores_bac/np.sum(coeffs)\n",
    "\n",
    "Y = (moyennes >=10)*1\n",
    "\n",
    "Y.shape\n"
   ]
  },
  {
   "cell_type": "markdown",
   "metadata": {},
   "source": [
    "## Architecture du RNN"
   ]
  },
  {
   "cell_type": "code",
   "execution_count": 4,
   "metadata": {},
   "outputs": [],
   "source": [
    "def init_parametres(dimensions):\n",
    "    \n",
    "    params = {}\n",
    "    \n",
    "    n_layers = len(dimensions) - 1\n",
    "    \n",
    "    for i in range(1, n_layers + 1):\n",
    "        params[\"W\" + str(i)] = np.random.randn(dimensions[i-1], dimensions[i]) / np.sqrt(dimensions[i])\n",
    "        params[\"b\" + str(i)] = np.zeros((1, dimensions[i])) \n",
    "    \n",
    "    return params\n",
    "    \n",
    "   "
   ]
  },
  {
   "cell_type": "code",
   "execution_count": null,
   "metadata": {},
   "outputs": [],
   "source": []
  },
  {
   "cell_type": "code",
   "execution_count": 5,
   "metadata": {},
   "outputs": [
    {
     "data": {
      "text/plain": [
       "[<matplotlib.lines.Line2D at 0x7f0eb7110ac8>]"
      ]
     },
     "execution_count": 5,
     "metadata": {},
     "output_type": "execute_result"
    },
    {
     "data": {
      "image/png": "[encoded data removed]",
      "text/plain": [
       "<Figure size 432x288 with 1 Axes>"
      ]
     },
     "metadata": {
      "needs_background": "light"
     },
     "output_type": "display_data"
    }
   ],
   "source": [
    "def sigmoid(z):\n",
    "    S = 1/(1+ np.exp(-z))\n",
    "    return S\n",
    "\n",
    "ligne = np.linspace(-10,10)\n",
    "plt.plot(ligne, sigmoid(ligne))"
   ]
  },
  {
   "cell_type": "code",
   "execution_count": 6,
   "metadata": {},
   "outputs": [],
   "source": [
    "def forward_pass(X, parametres):\n",
    "    \"\"\"La forward pass calcule les activations\n",
    "    \n",
    "    X: dataset\n",
    "    parametres: les poids et les biais\n",
    "    \n",
    "    return A3: la derniere activation de notre réseau de neurones \n",
    "    return cache :  stocke les résultats intermediaires\n",
    "    \"\"\"\n",
    "    #dans cette fonction on veur également retourner les resultats des aclculs intermediares qui sont mis en cache\n",
    "    \n",
    "    cache = {}\n",
    "    cache[\"A0\"] = X.T\n",
    "\n",
    "    #On recupere le nombre de couches,L\n",
    "    L = int(len(parametres)/2)\n",
    "\n",
    "    #Pour chaque couche en partant de la derniere\n",
    "    for i in range(1, L+1):\n",
    "        W = parametres[\"W\" + str(i)] \n",
    "        b = parametres[f\"b{i}\"]\n",
    "        #calcul de la preactivation\n",
    "        cache[\"Z\" + str(i)] = np.dot(cache[\"A\" + str(i-1)], W) + b\n",
    "        #calcul de l'activation\n",
    "        cache[\"A\" + str(i)] = sigmoid(cache[\"Z\" + str(i)])\n",
    "        \n",
    "    #return A3, cache\n",
    "    return cache[\"A\" + str(L)], cache"
   ]
  },
  {
   "cell_type": "code",
   "execution_count": 23,
   "metadata": {},
   "outputs": [
    {
     "name": "stdout",
     "output_type": "stream",
     "text": [
      "<function compute_cost at 0x7f0ee029a1e0>\n",
      "0.6931470875599547\n"
     ]
    }
   ],
   "source": [
    "def compute_cost(A, Y):\n",
    "    #pour calculer la cost j'ai besoin du nombre d'exemples: n_eleves, de la prediction:A3, du label Y\n",
    "    Loss = np.log(A) * Y + (1-Y) * np.log(1-A)\n",
    "    cost = -np.sum(Loss) / n_eleves\n",
    "    \n",
    "    return cost\n",
    "print(compute_cost)\n",
    "\n",
    "print(compute_cost(Y*0.0000001 + 0.5, Y))"
   ]
  },
  {
   "cell_type": "code",
   "execution_count": 12,
   "metadata": {},
   "outputs": [],
   "source": [
    "def backward(parametres, cache,Y,m):\n",
    "    # Dans cette fonction on veut retourner les dérivées de l'erreur par rapport à chaque paramètre\n",
    "    grads = {}\n",
    "    \n",
    "    # On récupère le nombre de couches, L\n",
    "    L = int(len(parametres) / 2)\n",
    "\n",
    "    # Pour chaque couche, en partant de la dernière\n",
    "    for i in reversed(range(1, L + 1)):\n",
    "        # Calcul de dZ\n",
    "        if i == L:\n",
    "            dZ = cache[\"A\"+str(L)] - Y\n",
    "        else:\n",
    "            dZ = np.dot(dZ, \n",
    "                        parametres[\"W\"+str(i + 1)].T) \n",
    "            A = cache[\"A\"+str(i)]\n",
    "            dZ = dZ * (A * (1 - A))\n",
    "\n",
    "        # Calcul dW\n",
    "        grads[\"dW\"+str(i)] = np.dot(cache[\"A\"+str(i-1)].T, dZ) / m\n",
    "        \n",
    "        # Calcul db\n",
    "        grads[\"db\"+str(i)] = np.sum(dZ, axis = 0, keepdims = True)/m\n",
    "    \n",
    "    return grads"
   ]
  },
  {
   "cell_type": "markdown",
   "metadata": {},
   "source": [
    "### Update parametres backward"
   ]
  },
  {
   "cell_type": "code",
   "execution_count": 13,
   "metadata": {},
   "outputs": [],
   "source": [
    "def update_parametres(params,grads, learning_rate = 1.2):\n",
    "\n",
    "    L = int(len(params)/2)\n",
    "    \n",
    "    for i in range(1, L+1):\n",
    "            \n",
    "        \n",
    "        #on applique un learning rate pour une mise à jour des parametres\n",
    "        params[\"W\" + str(i)] = params[\"W\" + str(i)]-learning_rate * grads[\"dW\" + str(i)]\n",
    "        params[\"b\" + str(i)] = params[\"b\" + str(i)]-learning_rate* grads[\"db\" + str(i)]\n",
    "    \n",
    "    return params"
   ]
  },
  {
   "cell_type": "markdown",
   "metadata": {},
   "source": [
    "## Test Reseau de neurones"
   ]
  },
  {
   "cell_type": "code",
   "execution_count": 30,
   "metadata": {},
   "outputs": [],
   "source": [
    "def rnn_model(X, Y,dimensions,num_iteration = 10000, learning_rate =0.05):\n",
    "    \n",
    "    parametres = init_parametres(dimensions)\n",
    "     # Pour trouver les meilleurs parametres possibles, \n",
    "    for i in range(0, num_iteration):\n",
    "        \n",
    "        # Pour Calculer l'activation de la dernière couche\n",
    "        A, cache = forward_pass(X, parametres)\n",
    "        \n",
    "        # Calcul de l'erreur commises par le réseau\n",
    "        cost = compute_cost(A, Y)\n",
    "        \n",
    "        # Obtenir les dérivées de l'erreur par rapport aux paramètres du réseau (les poids et les biais)\n",
    "        grads = backward(parametres, \n",
    "                         cache,\n",
    "                         Y,\n",
    "                         n_eleves)\n",
    "        \n",
    "        # Obtenir de nouveaux parametres W et b qui sont sensés être légérment meilleures\n",
    "        parametres = update_parametres(parametres , grads, learning_rate=learning_rate)\n",
    "        \n",
    "        # afficher la cost tous les 1000 itérations\n",
    "        if i % 1000 == 0:\n",
    "            print(i, cost)\n",
    "         \n",
    "    #\n",
    "    return parametres\n",
    "        "
   ]
  },
  {
   "cell_type": "code",
   "execution_count": 29,
   "metadata": {},
   "outputs": [
    {
     "data": {
      "text/plain": [
       "(200, 1)"
      ]
     },
     "execution_count": 29,
     "metadata": {},
     "output_type": "execute_result"
    }
   ],
   "source": []
  },
  {
   "cell_type": "code",
   "execution_count": 31,
   "metadata": {},
   "outputs": [
    {
     "name": "stdout",
     "output_type": "stream",
     "text": [
      "0 0.735500911655495\n",
      "1000 0.6199596015403417\n",
      "2000 0.5470210529828057\n",
      "3000 0.4566827276719414\n",
      "4000 0.39762131693463404\n",
      "5000 0.3485344236196022\n",
      "6000 0.302681293843533\n",
      "7000 0.26151410052086715\n",
      "8000 0.2284991681411293\n",
      "9000 0.20427799696317694\n",
      "10000 0.18747387366984541\n",
      "11000 0.17571304066524632\n",
      "12000 0.1676381290666136\n",
      "13000 0.16364381851853885\n",
      "14000 0.1737078144001577\n",
      "15000 0.19829658239202302\n",
      "16000 0.19306863124813922\n",
      "17000 0.18480893244629887\n",
      "18000 0.17677812651628863\n",
      "19000 0.16928128771332243\n",
      "20000 0.16240322003651766\n",
      "21000 0.14765632198588435\n",
      "22000 0.12637903556207186\n",
      "23000 0.10603535974987997\n",
      "24000 0.0962307435193327\n",
      "25000 0.09028870141347685\n",
      "26000 0.08646284856219597\n",
      "27000 0.08364850150515464\n",
      "28000 0.08140660748474193\n",
      "29000 0.07954063489306826\n"
     ]
    }
   ],
   "source": [
    "parametres2 = rnn_model(X, Y, \n",
    "                        dimensions=[X.shape[0],3,3,1],\n",
    "                        num_iteration = 30000, learning_rate=0.05)"
   ]
  },
  {
   "cell_type": "code",
   "execution_count": null,
   "metadata": {},
   "outputs": [],
   "source": []
  }
 ],
 "metadata": {
  "kernelspec": {
   "display_name": "Python 3",
   "language": "python",
   "name": "python3"
  },
  "language_info": {
   "codemirror_mode": {
    "name": "ipython",
    "version": 3
   },
   "file_extension": ".py",
   "mimetype": "text/x-python",
   "name": "python",
   "nbconvert_exporter": "python",
   "pygments_lexer": "ipython3",
   "version": "3.7.1"
  }
 },
 "nbformat": 4,
 "nbformat_minor": 2
}
